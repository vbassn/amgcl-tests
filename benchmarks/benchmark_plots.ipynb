{
 "cells": [
  {
   "cell_type": "markdown",
   "id": "b614c306",
   "metadata": {},
   "source": [
    "# Volume Mesh Builder Benchmarks"
   ]
  },
  {
   "cell_type": "code",
   "execution_count": null,
   "id": "25ed565d",
   "metadata": {},
   "outputs": [],
   "source": [
    "import pandas as pd\n",
    "import matplotlib.pyplot as plt\n",
    "import re"
   ]
  },
  {
   "cell_type": "code",
   "execution_count": null,
   "id": "6cbcd4f2",
   "metadata": {},
   "outputs": [],
   "source": [
    "benchmarks_csv_path = 'dtcc_runs_results.csv'\n",
    "df = pd.read_csv(benchmarks_csv_path)"
   ]
  },
  {
   "cell_type": "code",
   "execution_count": null,
   "id": "24ced55c",
   "metadata": {},
   "outputs": [],
   "source": [
    "labels = { 2: 'Layer Ground Mesh',\n",
    "          3: ' Elastic Smoothing 1',\n",
    "          4: ' Trim Volume Mesh',\n",
    "          5: ' Elastic Smoothing 2',\n",
    "          6: ' Mesh Improvement Step',\n",
    "          7: ' Domain Padding'}"
   ]
  },
  {
   "cell_type": "markdown",
   "id": "bf8265ef",
   "metadata": {},
   "source": [
    "## 1. CPU Time for each generation step as a function of cell number.\n",
    "\n",
    "Computational cost (CPU time) as function of the number of cells (tetrahedra) generated for the different steps of our mesh generation pipeline"
   ]
  },
  {
   "cell_type": "code",
   "execution_count": null,
   "id": "43511f24",
   "metadata": {},
   "outputs": [],
   "source": [
    "time_cols = [col for col in df.columns if col.startswith('time_s_')]\n",
    "steps = sorted(int(re.search(r'time_s_(\\d+)', col).group(1)) for col in time_cols)\n",
    "\n",
    "# Plot CPU time vs cells for each step\n",
    "fig, ax = plt.subplots()\n",
    "fig.set_size_inches(8, 8)\n",
    "for step in steps:\n",
    "    time_col = f'time_s_{step}'\n",
    "    cells_col = f'cells_{step}'\n",
    "    ax.loglog(df[cells_col], df[time_col], marker='o', label=labels[step])\n",
    "\n",
    "ax.set_xlabel('Number of cells')\n",
    "ax.set_ylabel('CPU time (s)')\n",
    "ax.set_title('CPU Time vs Number of Cells for Each Mesh Step')\n",
    "ax.grid(True, which=\"both\", ls=\"--\", linewidth=0.5)\n",
    "\n",
    "ax.legend(loc='best')\n",
    "plt.tight_layout()\n",
    "plt.show()"
   ]
  },
  {
   "cell_type": "code",
   "execution_count": null,
   "id": "c0964405",
   "metadata": {},
   "outputs": [],
   "source": [
    "# Plot CPU time vs number of buildings for each step\n",
    "fig, ax = plt.subplots()\n",
    "fig.set_size_inches(8, 8)\n",
    "for step in steps:\n",
    "    time_col = f'time_s_{step}'\n",
    "    ax.loglog(df['num_buildings'], df[time_col], marker='o', label=labels[step])\n",
    "\n",
    "ax.set_xlabel('Number of Buildings')\n",
    "ax.set_ylabel('CPU time (s)')\n",
    "ax.set_title('CPU Time vs Number of Buildings for Each Mesh Step')\n",
    "ax.grid(True, which=\"both\", ls=\"--\", linewidth=0.5)\n",
    "\n",
    "ax.legend(loc='best')\n",
    "plt.tight_layout()\n",
    "plt.show()"
   ]
  },
  {
   "cell_type": "code",
   "execution_count": null,
   "id": "5111e5e3",
   "metadata": {},
   "outputs": [],
   "source": [
    "df['domain_area'] = (df['xmax'] - df['xmin']) * (df['ymax'] - df['ymin'])\n",
    "df_sorted = df.sort_values('domain_area')\n",
    "\n",
    "\n",
    "\n",
    "\n",
    "# --- Plot 1: Cumulative Time Breakdown vs. Domain Size ---\n",
    "fig, ax = plt.subplots(figsize=(10, 6))\n",
    "time_arrays = [df_sorted[f\"time_s_{s}\"].values for s in steps]\n",
    "ax.stackplot(df_sorted['domain_area'], *time_arrays, labels=labels)\n",
    "ax.set_xscale('log')\n",
    "ax.set_xlabel('Domain Area (units²)')\n",
    "ax.set_ylabel('Time (s)')\n",
    "ax.set_title('Cumulative Time Breakdown vs. Domain Size')\n",
    "ax.legend(loc='best')\n",
    "ax.grid(True, which='both', ls='--', linewidth=0.5)\n",
    "plt.tight_layout()\n",
    "plt.show()"
   ]
  }
 ],
 "metadata": {
  "kernelspec": {
   "display_name": "venv_volume_mesh",
   "language": "python",
   "name": "python3"
  },
  "language_info": {
   "codemirror_mode": {
    "name": "ipython",
    "version": 3
   },
   "file_extension": ".py",
   "mimetype": "text/x-python",
   "name": "python",
   "nbconvert_exporter": "python",
   "pygments_lexer": "ipython3",
   "version": "3.13.1"
  }
 },
 "nbformat": 4,
 "nbformat_minor": 5
}
